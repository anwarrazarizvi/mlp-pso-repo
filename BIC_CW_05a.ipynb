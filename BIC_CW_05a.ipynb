{
 "cells": [
  {
   "cell_type": "markdown",
   "metadata": {},
   "source": [
    "**Import Resources**"
   ]
  },
  {
   "cell_type": "code",
   "execution_count": 1,
   "metadata": {
    "scrolled": true
   },
   "outputs": [],
   "source": [
    "# importing resources\n",
    "import numpy as np\n",
    "import matplotlib.pyplot as plt\n",
    "%matplotlib inline\n",
    "\n",
    "#import ipywidgets as widgets\n",
    "#from ipywidgets import interact, interact_manual"
   ]
  },
  {
   "cell_type": "markdown",
   "metadata": {},
   "source": [
    "**Select function from User input**"
   ]
  },
  {
   "cell_type": "code",
   "execution_count": 2,
   "metadata": {
    "scrolled": true
   },
   "outputs": [
    {
     "name": "stdout",
     "output_type": "stream",
     "text": [
      "Choose the function name \n",
      "(Options: Linear, Cubic, Sine, TanH, XOR, Complex) = Complex\n"
     ]
    }
   ],
   "source": [
    "# Setting function from User input\n",
    "func = input('Choose the function name \\n(Options: Linear, Cubic, Sine, TanH, XOR, Complex) = ')"
   ]
  },
  {
   "cell_type": "code",
   "execution_count": null,
   "metadata": {
    "scrolled": true
   },
   "outputs": [],
   "source": [
    "## try and except statment\n",
    "#handling errors & exceptions"
   ]
  },
  {
   "cell_type": "markdown",
   "metadata": {},
   "source": [
    "**Set Hyperparameters from User input**"
   ]
  },
  {
   "cell_type": "code",
   "execution_count": 3,
   "metadata": {
    "scrolled": true
   },
   "outputs": [
    {
     "name": "stdout",
     "output_type": "stream",
     "text": [
      "Enter number of hidden layers = 5\n",
      "Enter number of nodes in hidden layer 1= 10\n",
      "Enter number of nodes in hidden layer 2= 8\n",
      "Enter number of nodes in hidden layer 3= 6\n",
      "Enter number of nodes in hidden layer 4= 4\n",
      "Enter number of nodes in hidden layer 5= 3\n",
      "Enter the activation function \n",
      "(Options: Null, Sigmoid, Hyperbolic Tangent, Cosine, Gaussian) = Gaussian\n",
      "Enter value of learning rate = 0.1\n",
      "[10, 8, 6, 4, 3]\n",
      "Gaussian\n",
      "0.1\n"
     ]
    }
   ],
   "source": [
    "# Setting Hyperparameters from User input\n",
    "\n",
    "# set number of hidden layers\n",
    "hidden_layers = int(input('Enter number of hidden layers = '))\n",
    "\n",
    "# set number of nodes/neurons in the hidden layers\n",
    "if(hidden_layers > 0):\n",
    "    hidden_layer_nodes = []\n",
    "    for layer in range(hidden_layers):\n",
    "        hidden_layer_nodes.append(int(input('Enter number of nodes in hidden layer {}= '.format(layer+1))))\n",
    "    \n",
    "# set activation function\n",
    "activation = input('Enter the activation function \\n(Options: Null, Sigmoid, Hyperbolic Tangent, Cosine, Gaussian) = ')\n",
    "    \n",
    "#set learning rate\n",
    "learning_rate = float(input('Enter value of learning rate = '))\n",
    "\n",
    "#check\n",
    "print(hidden_layer_nodes)\n",
    "print(activation)\n",
    "print(learning_rate)\n"
   ]
  },
  {
   "cell_type": "markdown",
   "metadata": {},
   "source": [
    "###### **Set number of nodes in input and output layers based on the selected function**"
   ]
  },
  {
   "cell_type": "code",
   "execution_count": null,
   "metadata": {
    "scrolled": true
   },
   "outputs": [],
   "source": [
    "'''\n",
    "# Setting number nodes/neurons in the Input layer\n",
    "input_nodes = 1 #input nodes=1 for Linear, Cubic, Sine, Tanh since these functions are based on single input variable\n",
    "\n",
    "if func in ('XOR','Complex'):\n",
    "    input_nodes = 2 # Since XOR & Complex functions are based on two input variables\n",
    "   \n",
    "    \n",
    "# Setting number of nodes/neurons in the Output layer\n",
    "output_nodes =1 # Since only single output value is expected from the fuction\n",
    "\n",
    "#check\n",
    "print(input_nodes, output_nodes)\n",
    "'''"
   ]
  },
  {
   "cell_type": "code",
   "execution_count": 4,
   "metadata": {
    "scrolled": true
   },
   "outputs": [],
   "source": [
    "activation_funcs = {\n",
    "    'Null': lambda x: 0,\n",
    "    'Sigmoid': lambda x: 1/(1 + np.exp(-x)),\n",
    "    'Hyperbolic Tangent': lambda x: np.tanh(x),\n",
    "    'Cosine': lambda x: np.cos(x),\n",
    "    'Gaussian': lambda x: np.exp(-x**2/2),\n",
    "        }"
   ]
  },
  {
   "cell_type": "code",
   "execution_count": null,
   "metadata": {
    "scrolled": true
   },
   "outputs": [],
   "source": [
    "#check only\n",
    "activate = activation_funcs[activation]\n",
    "print ('Output: Selected activation -',activate(.5))\n",
    "\n",
    "print('Output: Null -',0)\n",
    "print('Output: Sigmoid -',1/(1 + np.exp(-.5)))\n",
    "print('Output: Hyperbolic Tangent -',np.tanh(.5))\n",
    "print('Output: Cosine -',np.cos(.5))\n",
    "print('Output: Gaussian -',np.exp(-.5**2/2))"
   ]
  },
  {
   "cell_type": "code",
   "execution_count": null,
   "metadata": {
    "scrolled": true
   },
   "outputs": [],
   "source": [
    "#check only\n",
    "for i in range(len(hidden_layer_nodes)):\n",
    "    print(\"number of neurons in hidden layer {} is {}\".format(i+1,hidden_layer_nodes[i]))"
   ]
  },
  {
   "cell_type": "markdown",
   "metadata": {},
   "source": [
    "**Create Neural Network Class**"
   ]
  },
  {
   "cell_type": "code",
   "execution_count": 5,
   "metadata": {
    "scrolled": true
   },
   "outputs": [],
   "source": [
    "class neuralNetwork:    \n",
    "    def __init__(self, func, hiddenLayerNodes, learningRate, activation):\n",
    "        self.func = func\n",
    "        self.layerArch = hiddenLayerNodes\n",
    "        self.lr = learningRate\n",
    "        self.activation = activation\n",
    "        \n",
    "        # setting layer architecture as a list\n",
    "        self.layerArchitecture()\n",
    "        \n",
    "        #intialize the weight array\n",
    "        self.weights = self.allWeights()\n",
    "\n",
    "        self.actfunc = self.functionSelection()\n",
    "        \n",
    "    def layerArchitecture(self):\n",
    "        # Setting number nodes/neurons in the Input layer\n",
    "        if self.func in ('XOR','Complex'):\n",
    "            self.layerArch.insert(0,2) # XOR & Complex functions are based on two input variables\n",
    "        else:\n",
    "            self.layerArch.insert(0,1) # Linear, Cubic, Sine, Tanh functions are based on single input variable\n",
    "       \n",
    "        # Setting number of nodes/neurons in the Output layer\n",
    "        self.layerArch.append(1) # only single output value is expected from the fuction\n",
    "        \n",
    "    \n",
    "    def allWeights(self):\n",
    "        n_weights = sum(self.layerArch[i]*self.layerArch[i+1] for i in range(len(self.layerArch)-1))\n",
    "        return np.random.rand(n_weights)\n",
    "    \n",
    "    def functionSelection(self):\n",
    "        return activation_funcs[self.activation]\n",
    "\n",
    "    def forward(self, input_list):\n",
    "        splitIndices = []\n",
    "        for i in range(len(self.layerArch)-1):\n",
    "            splitIndices.append(self.layerArch[i]*self.layerArch[i+1])\n",
    "            if i != 0:\n",
    "                splitIndices[i] = splitIndices[i]+splitIndices[i-1]\n",
    "               \n",
    "        wArray = np.split(self.weights,splitIndices)\n",
    "        \n",
    "        input_array = np.asarray(input_list)\n",
    "        for i in range(len(self.layerArch)-1):\n",
    "            a = wArray[i].reshape(self.layerArch[i+1],self.layerArch[i])\n",
    "            \n",
    "            input_array = np.matmul(a,input_array)\n",
    "            if i != (len(self.layerArch)-1):\n",
    "                input_array = self.actfunc(input_array)\n",
    "        \n",
    "        final_output = input_array.tolist()\n",
    "            \n",
    "        #inputs = np.array(inputs_list,ndmin = 1).T\n",
    "                \n",
    "        return final_output"
   ]
  },
  {
   "cell_type": "code",
   "execution_count": 6,
   "metadata": {
    "scrolled": true
   },
   "outputs": [],
   "source": [
    "#create instance of neural network\n",
    "nn = neuralNetwork(func, hidden_layer_nodes, learning_rate, activation)\n"
   ]
  },
  {
   "cell_type": "markdown",
   "metadata": {},
   "source": [
    "**Reading data from the .txt file**"
   ]
  },
  {
   "cell_type": "code",
   "execution_count": 7,
   "metadata": {
    "scrolled": true
   },
   "outputs": [],
   "source": [
    "# load the training data from .txt file into a list\n",
    "txt_address = {'Linear':'cw_dataset/1in_linear.txt',\n",
    "               'Cubic':'cw_dataset/1in_cubic.txt',\n",
    "               'Sine':'cw_dataset/1in_sine.txt',\n",
    "               'TanH':'cw_dataset/1in_tanh.txt',\n",
    "               'XOR':'cw_dataset/2in_xor.txt',\n",
    "               'Complex':'cw_dataset/2in_complex.txt'}\n",
    "\n",
    "train_data_file = open(txt_address[func],'r')\n",
    "line_data = train_data_file.readlines()\n",
    "train_data_file.close()\n",
    "\n",
    "train_list = []\n",
    "for line in line_data:\n",
    "    line = line.strip().split()\n",
    "    for d in line:\n",
    "        train_list.append(float(d))\n",
    "        \n",
    "#check     \n",
    "#print(train_list)\n",
    "\n",
    "#train_array = np.array(train_list, dtype=np.float32).reshape((2,200))\n",
    "#train_array = np.array(train_list).reshape((-1,2))\n",
    "#X,Y = train_array[:,0],train_array[:,-1]\n",
    "\n",
    "if func in ('XOR','Complex'):\n",
    "    X1,X2,Y = train_list[::3],train_list[1::3],train_list[2::3]\n",
    "else:\n",
    "    X,Y = train_list[::2],train_list[1::2]"
   ]
  },
  {
   "cell_type": "code",
   "execution_count": null,
   "metadata": {},
   "outputs": [],
   "source": [
    "yOut = []\n",
    "for i in range(len(X)):\n",
    "    yOut.append(nn.forward([X[i]]))"
   ]
  },
  {
   "cell_type": "code",
   "execution_count": 8,
   "metadata": {},
   "outputs": [],
   "source": [
    "yOut = []\n",
    "for i in range(len(X1)):\n",
    "    yOut.append(nn.forward([X1[i],X2[i]]))"
   ]
  },
  {
   "cell_type": "code",
   "execution_count": 9,
   "metadata": {},
   "outputs": [
    {
     "name": "stdout",
     "output_type": "stream",
     "text": [
      "[[0.24989900014167088], [0.24996226328246407], [0.24989900066801302], [0.24989900357188283], [0.24989914171796965], [0.24989917915724127], [0.2499013381092943], [0.24989900310163574], [0.24989900073688895], [0.24989905951150246], [0.24989900115476565], [0.24989900013354885], [0.24989900145494756], [0.24989974748742066], [0.24990475093661915], [0.24989988318588166], [0.2498990001638481], [0.24989900014989633], [0.24989900013230595], [0.24989902472343958], [0.2498990001295278], [0.24989901386632102], [0.24989915825723513], [0.2498990001457833], [0.24989900027684436], [0.2498990001386761], [0.24989900033632628], [0.24989936335727142], [0.24993659037429747], [0.24989900041270652], [0.2498990007973466], [0.2498990001205781], [0.24989911833882295], [0.2499376278488227], [0.24989900048952854], [0.2498990002054136], [0.24990003508969047], [0.24989954742041576], [0.24989958024538841], [0.24989927565610298], [0.24990532601198376], [0.24989900026164366], [0.24989903346081294], [0.2498992163736019], [0.24989901179307916], [0.24989900031735984], [0.2498990001258398], [0.2499230728034018], [0.2498990001555837], [0.24989900015064936], [0.24989955627975224], [0.24989900064206805], [0.24989900022661818], [0.2498993659147145], [0.24989900022404413], [0.2499168124646313], [0.24989900013298397], [0.2498990065105985], [0.24989901829270678], [0.2499025295163931], [0.24989900012533472], [0.249899000164238], [0.2498993965272073], [0.24989900013594657], [0.249899028260191], [0.24990008696838875], [0.24989900015802335], [0.2498992744872403], [0.2498990007242379], [0.2499045931146973], [0.24989900071958024], [0.24989900013007846], [0.24989900012259697], [0.2498990020217954], [0.2498990002167378], [0.24989900039558618], [0.24989900042486088], [0.24989900018691186], [0.249899000173931], [0.24989923656027194], [0.24989982324745239], [0.24989900821102454], [0.24989968401937115], [0.24989900025768044], [0.24989905412503216], [0.2498990856022204], [0.24989900012947813], [0.2498990002072832], [0.2498990002113286], [0.24989900017356043], [0.24989902073701864], [0.24989900107996246], [0.2498990011351885], [0.24989900014677413], [0.24989915347820546], [0.24989900035771562], [0.24989900139140003], [0.2498990001185186], [0.2499001246703512], [0.24989900038905638]]\n"
     ]
    }
   ],
   "source": [
    "print(yOut)"
   ]
  },
  {
   "cell_type": "code",
   "execution_count": 10,
   "metadata": {
    "scrolled": true
   },
   "outputs": [
    {
     "name": "stdout",
     "output_type": "stream",
     "text": [
      "[0.6771, -0.9142, 0.1488, 0.6137, -0.4975, 0.3031, 0.6318, -0.3801, 0.0729, -0.578, 0.3036, -0.5414, -0.3781, 0.4414, -0.7377, -0.7495, 0.8228, 0.234, -0.5587, 0.098, -0.3403, 0.8869, 0.7603, -0.2408, -0.6744, -0.6075, 0.2266, -0.9379, 0.9421, -0.5439, 0.3597, 0.1997, -0.5693, -0.8465, 0.5776, 0.7559, 0.4443, -0.6887, -0.3732, -0.2847, 0.5873, -0.7795, -0.7349, -0.7304, -0.2069, -0.5179, -0.2178, -0.8142, -0.6809, 0.7583, 0.9826, 0.7427, -0.008, -0.8781, -0.6275, -0.7534, -0.2606, 0.7787, -0.6866, -0.5332, -0.2062, -0.83, 0.9394, 0.5639, -0.6085, 0.4276, 0.2742, 0.6961, 0.3366, 0.6413, -0.0262, 0.2831, 0.3219, 0.8764, -0.818, 0.0298, 0.45, 0.9282, -0.6778, -0.9995, -0.4498, -0.8122, 0.6338, -0.9549, 0.696, 0.9102, 0.4846, 0.768, -0.881, 0.9164, -0.1673, -0.1001, -0.2168, -0.2912, 0.3017, 0.6656, 0.2597, 0.0844, 0.7262, -0.0555]\n",
      "100\n",
      "[-0.4831, -0.9882, 0.4878, 0.2751, -0.7114, 0.8922, 0.8605, -0.4624, -0.6734, -0.5664, -0.8944, 0.3349, -0.3867, 0.9088, -0.8634, -0.6677, -0.7275, -0.462, 0.4258, 0.8827, 0.409, 0.1632, 0.4992, 0.4511, 0.9124, 0.5524, -0.6754, -0.4227, 0.901, 0.9171, -0.8901, -0.2137, -0.6352, -0.9852, -0.9644, -0.2949, 0.9369, -0.6741, -0.9412, -0.9456, 0.9985, 0.2452, -0.3799, -0.5533, -0.7297, 0.855, 0.0225, -0.9566, 0.689, -0.626, 0.4241, -0.0407, -0.4249, -0.4751, 0.8342, -0.9731, 0.3973, 0.1875, -0.3666, -0.9832, 0.2997, 0.5376, 0.4296, -0.5249, -0.4736, 0.9552, 0.0918, 0.6042, 0.342, 0.9409, 0.6349, -0.3873, -0.284, -0.0247, 0.3477, -0.5568, -0.8635, -0.5847, 0.2764, -0.3287, -0.9109, -0.18, 0.741, 0.4544, 0.4572, 0.3127, -0.3101, -0.3055, 0.4368, -0.6863, -0.8119, 0.7383, -0.4944, 0.486, 0.8796, -0.06, -0.8836, -0.0885, 0.7104, 0.5738]\n",
      "100\n"
     ]
    }
   ],
   "source": [
    "print(X1)\n",
    "print(len(X1))\n",
    "print(X2)\n",
    "print(len(X2))"
   ]
  },
  {
   "cell_type": "code",
   "execution_count": 11,
   "metadata": {
    "scrolled": true
   },
   "outputs": [
    {
     "name": "stdout",
     "output_type": "stream",
     "text": [
      "[0.4624, -0.24, -0.2242, -0.5741, 0.3295, -0.2155, -0.1534, 0.2938, -0.1801, 0.3139, -0.2072, -0.588, 0.2145, -0.1869, -0.1405, -0.1127, 0.7635, -0.2176, -0.5483, -0.2165, -0.5388, -0.8916, -0.7081, -0.4481, -0.1563, -0.43, -0.2186, -0.5762, -0.0101, -0.1072, -0.1866, -0.2205, 0.3212, -0.2337, -0.1505, 0.2991, -0.1787, 0.0658, -0.0818, -0.1143, -0.0752, -0.2282, -0.1008, -0.0484, 0.0945, -0.1598, -0.3383, -0.2395, -0.2825, 0.735, -0.8993, -0.3717, -0.1295, -0.4939, -0.1902, -0.2091, -0.4835, -0.8107, -0.0007, -0.1781, -0.449, -0.1509, -0.9266, 0.1974, 0.2264, -0.1806, -0.2277, -0.4922, -0.2558, -0.0754, -0.2574, -0.2051, -0.1979, -0.4657, -0.1473, -0.147, -0.1161, 1.0, -0.4297, -0.5174, 0.0004, -0.2419, -0.2804, 0.0287, -0.6571, -1.0, -0.0704, 0.344, -0.0454, 0.9318, -0.0113, -0.2424, 0.1311, -0.4673, -0.2163, -0.3008, -0.2158, -0.2219, -0.3553, -0.2833]\n"
     ]
    },
    {
     "data": {
      "text/plain": [
       "100"
      ]
     },
     "execution_count": 11,
     "metadata": {},
     "output_type": "execute_result"
    }
   ],
   "source": [
    "print(Y)\n",
    "len(Y)"
   ]
  },
  {
   "cell_type": "code",
   "execution_count": null,
   "metadata": {
    "scrolled": true
   },
   "outputs": [],
   "source": [
    "nn.run((np.asfarray(all_values[1:])/255.0*.99)+0.01)"
   ]
  },
  {
   "cell_type": "code",
   "execution_count": null,
   "metadata": {
    "scrolled": true
   },
   "outputs": [],
   "source": []
  }
 ],
 "metadata": {
  "kernelspec": {
   "display_name": "Python 3",
   "language": "python",
   "name": "python3"
  },
  "language_info": {
   "codemirror_mode": {
    "name": "ipython",
    "version": 3
   },
   "file_extension": ".py",
   "mimetype": "text/x-python",
   "name": "python",
   "nbconvert_exporter": "python",
   "pygments_lexer": "ipython3",
   "version": "3.7.5"
  }
 },
 "nbformat": 4,
 "nbformat_minor": 2
}
