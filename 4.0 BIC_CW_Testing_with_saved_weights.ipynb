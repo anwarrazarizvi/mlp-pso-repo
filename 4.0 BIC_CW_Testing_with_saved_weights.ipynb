{
 "cells": [
  {
   "cell_type": "markdown",
   "metadata": {},
   "source": [
    "## Function Approximation\n",
    "### Using the PSO algorithm to optimise the ANN's parameters"
   ]
  },
  {
   "cell_type": "markdown",
   "metadata": {},
   "source": [
    "**1. Import Resources**"
   ]
  },
  {
   "cell_type": "code",
   "execution_count": 1,
   "metadata": {
    "scrolled": true
   },
   "outputs": [],
   "source": [
    "# import resources\n",
    "import numpy as np\n",
    "import matplotlib.pyplot as plt\n",
    "%matplotlib inline"
   ]
  },
  {
   "cell_type": "markdown",
   "metadata": {},
   "source": [
    "**2. Create Neural Network Class**"
   ]
  },
  {
   "cell_type": "code",
   "execution_count": 2,
   "metadata": {
    "scrolled": true
   },
   "outputs": [],
   "source": [
    "class NeuralNetwork:    \n",
    "    def __init__(self, func, hiddenLayerNeurons, activation):\n",
    "        self.func = func # name of the function to be optimized\n",
    "        self.layerArch = list.copy(hiddenLayerNeurons) #list of neurons in the hidden layers\n",
    "        self.activation = activation # name of the activation fuction\n",
    "         \n",
    "        # adding input and output layers to the hidden neurons list\n",
    "        self.inputOutputNeurons()\n",
    "        \n",
    "        # calculate number of weights\n",
    "        self.nWeights = self.numWeights()\n",
    "        \n",
    "        # set activation function\n",
    "        self.actFunc = self.functionSelection()\n",
    "        \n",
    "        # set indices at which weight matrix to be split for matrix multiplication\n",
    "        self.splitIndices = self.splitIndices()\n",
    "        \n",
    "    def getANN_Hyperparameters(self):\n",
    "        return [self.func, self.activation, self.layerArch]\n",
    "        \n",
    "    def getnWeights(self): # getter methonds for number of weights\n",
    "        return self.nWeights\n",
    "        \n",
    "    def inputOutputNeurons(self): # a private method to neuralNetwork class\n",
    "        # Set number neurons in the Input layer\n",
    "        if self.func in ('XOR','Complex'):\n",
    "            self.layerArch.insert(0,2) # XOR & Complex functions are based on two input variables\n",
    "        else:\n",
    "            self.layerArch.insert(0,1) # Linear, Cubic, Sine, Tanh functions are based on single input variable\n",
    "       \n",
    "        # Set number of neurons in the Output layer\n",
    "        self.layerArch.append(1) # only single output value is expected from the fuction\n",
    "        \n",
    "    def numWeights(self):# a private method to neuralNetwork class\n",
    "        n_weights = sum(self.layerArch[i]*self.layerArch[i+1] for i in range(len(self.layerArch)-1))\n",
    "        return n_weights\n",
    "    \n",
    "    def functionSelection(self):# a private method to neuralNetwork class\n",
    "        return activation_funcs[self.activation]\n",
    "    \n",
    "    def splitIndices(self):\n",
    "        indices = []\n",
    "        for i in range(len(self.layerArch)-1):\n",
    "            indices.append(self.layerArch[i]*self.layerArch[i+1])\n",
    "\n",
    "        splitIndices = []\n",
    "        splitIndices.append(indices[0])\n",
    "        for j in range(1,len(indices)-1):\n",
    "            splitIndices.append(splitIndices[j-1] + indices[j])\n",
    "\n",
    "        return splitIndices\n",
    "    \n",
    "    def forward(self, weights,X,Y):\n",
    "        \n",
    "        inputArray = np.copy(X)\n",
    "       \n",
    "        wArray = np.split(weights,self.splitIndices)\n",
    "        #print(\"splitIndices\",self.splitIndices)\n",
    "        #print(\"wArray\",wArray)\n",
    "        #print(\"layerArch\", self.layerArch)\n",
    "        \n",
    "        wMatrix=[]\n",
    "        for i in range(0,len(self.layerArch)-1):\n",
    "            wMatrix.append(wArray[i].reshape(self.layerArch[i+1],self.layerArch[i]))\n",
    "        #print(\"wArray after reshape\", wMatrix)\n",
    "    \n",
    "        desiredArray = np.copy(Y)\n",
    "        predictArray = []\n",
    "        \n",
    "        for i in range(len(inputArray)):\n",
    "            ih = inputArray[i].reshape(-1,1)\n",
    "            for j in range(0,len(self.layerArch)-1):\n",
    "                #print(\"wMatrix = \", wMatrix[j], \"ih = \", ih)\n",
    "                ih = np.matmul(wMatrix[j],ih)\n",
    "            \n",
    "                if j != (len(self.layerArch)-1):\n",
    "                    ih = self.actFunc(ih)\n",
    "            predictArray.append(ih)\n",
    "            \n",
    "        #print(len(desiredArray), len(predictArray))\n",
    "\n",
    "        squeezePredict = np.squeeze(predictArray)\n",
    "\n",
    "        mse = ((desiredArray - squeezePredict)**2).mean(axis = None)\n",
    "       \n",
    "        return mse.tolist(), squeezePredict"
   ]
  },
  {
   "cell_type": "markdown",
   "metadata": {},
   "source": [
    "**3. Helper function for passing activation function**"
   ]
  },
  {
   "cell_type": "code",
   "execution_count": 3,
   "metadata": {
    "scrolled": true
   },
   "outputs": [],
   "source": [
    "activation_funcs = {\n",
    "    'Null': lambda x: x*0,\n",
    "    'Sigmoid': lambda x: 1/(1 + np.exp(-x)),\n",
    "    'Hyperbolic Tangent': lambda x: np.tanh(x),\n",
    "    'Cosine': lambda x: np.cos(x),\n",
    "    'Gaussian': lambda x: np.exp(-x**2/2),\n",
    "        }"
   ]
  },
  {
   "cell_type": "markdown",
   "metadata": {},
   "source": [
    "**4. Function to read data from the .txt file**"
   ]
  },
  {
   "cell_type": "code",
   "execution_count": 4,
   "metadata": {},
   "outputs": [],
   "source": [
    "# load the training data from .txt file into a list\n",
    "def read_data(func):\n",
    "    txt_address = {'Linear':'Data/1in_linear_test.txt',\n",
    "                   'Cubic':'Data/1in_cubic_test.txt',\n",
    "                   'Sine':'Data/1in_sine_test.txt',\n",
    "                   'TanH':'Data/1in_tanh_test.txt',\n",
    "                   'XOR':'Data/2in_xor_test.txt',\n",
    "                   'Complex':'Data/2in_complex_test.txt'}\n",
    "\n",
    "    train_data_file = open(txt_address[func],'r')\n",
    "    line_data = train_data_file.readlines()\n",
    "    train_data_file.close()\n",
    "\n",
    "    train_list = []\n",
    "    for line in line_data:\n",
    "        line = line.strip().split()\n",
    "        for d in line:\n",
    "            train_list.append(float(d))\n",
    "        \n",
    "    #check     \n",
    "    #print(train_list)\n",
    "\n",
    "    if func in ('XOR','Complex'):\n",
    "        train_array = np.asarray(train_list, dtype=np.float32).reshape(-1,3)\n",
    "        X,Y = train_array[:,0:2], train_array[:,-1]\n",
    "\n",
    "    elif func in ('Linear', 'Cubic', 'Sine', 'TanH'):\n",
    "        train_array = np.asarray(train_list, dtype=np.float32).reshape(-1,2)\n",
    "        X,Y = train_array[:,0], train_array[:,-1]\n",
    "    else:\n",
    "        \"error reading data\"    \n",
    "    #print(train_array)\n",
    "    #print(X)\n",
    "    #print(Y)\n",
    "    \n",
    "    return X,Y"
   ]
  },
  {
   "cell_type": "markdown",
   "metadata": {},
   "source": [
    "**5. Select function to be Tested**"
   ]
  },
  {
   "cell_type": "code",
   "execution_count": 5,
   "metadata": {},
   "outputs": [
    {
     "name": "stdout",
     "output_type": "stream",
     "text": [
      "Choose the function name \n",
      "(Options: Linear, Cubic, Sine, TanH, XOR, Complex) = Sine\n"
     ]
    }
   ],
   "source": [
    "# Set function from User input\n",
    "func = input('Choose the function name \\n(Options: Linear, Cubic, Sine, TanH, XOR, Complex) = ')"
   ]
  },
  {
   "cell_type": "markdown",
   "metadata": {},
   "source": [
    "**6. Run Test**"
   ]
  },
  {
   "cell_type": "code",
   "execution_count": 6,
   "metadata": {},
   "outputs": [],
   "source": [
    "if func == 'Linear':\n",
    "    hidden_layer_neurons = [10,8]\n",
    "    activation = 'Hyperbolic Tangent' \n",
    "    weights = np.genfromtxt('linear_weights.csv',delimiter = ',')\n",
    "elif func == 'Cubic':\n",
    "    hidden_layer_neurons = [8,5]\n",
    "    activation = 'Hyperbolic Tangent' \n",
    "    weights = np.genfromtxt('cubic_weights.csv',delimiter = ',')\n",
    "elif func == 'Sine':\n",
    "    hidden_layer_neurons = [8,5]\n",
    "    activation = 'Hyperbolic Tangent' \n",
    "    weights = np.genfromtxt('sine_weights.csv',delimiter = ',')\n",
    "elif func == 'TanH':\n",
    "    hidden_layer_neurons = [10,8]\n",
    "    activation = 'Hyperbolic Tangent' \n",
    "    weights = np.genfromtxt('tanh_weights.csv',delimiter = ',') \n",
    "elif func == 'XOR':\n",
    "    hidden_layer_neurons = [8,5]\n",
    "    activation = 'Hyperbolic Tangent' \n",
    "    weights = np.genfromtxt('xor_weights.csv',delimiter = ',') \n",
    "elif func == 'Complex':\n",
    "    hidden_layer_neurons = [10,8]\n",
    "    activation = 'Cosine' \n",
    "    weights = np.genfromtxt('complex_weights.csv',delimiter = ',') \n",
    "else: 'function not found'\n",
    "    \n",
    "X,Y = read_data(func) # read data\n",
    "ann_object = NeuralNetwork(func, hidden_layer_neurons, activation) #create instance of neural network\n",
    "mse, predict_array = ann_object.forward(weights,X,Y) #run ann\n"
   ]
  },
  {
   "cell_type": "markdown",
   "metadata": {},
   "source": [
    "**7.Print Result**"
   ]
  },
  {
   "cell_type": "code",
   "execution_count": 7,
   "metadata": {},
   "outputs": [
    {
     "name": "stdout",
     "output_type": "stream",
     "text": [
      "Mean Squared Error: 1.3135\n",
      "\n",
      "Accuracy:-31.35%\n",
      "\n",
      "Predicted Array\n",
      " [-0.22347606  0.88730383  0.51171442 -0.79644697 -0.00794621  0.71079885\n",
      " -0.86298896 -0.82833213  0.75462312  0.66426423 -0.0466703  -0.12813016\n",
      " -0.84644642  0.82509985 -0.83935253 -0.67253308 -0.69827814  0.65157156\n",
      " -0.88491764  0.24688917 -0.88689002 -0.79522612  0.88491764  0.12056671\n",
      "  0.8666133  -0.23442357 -0.87904723  0.88567166  0.88618275 -0.78065453]\n",
      "\n",
      "Desired output\n",
      " [ 8.6700886e-02 -4.2888781e-01 -1.5039206e-01  6.3619179e-01\n",
      " -8.3633435e-01 -6.8664336e-01  3.3489913e-01  6.0654324e-01\n",
      " -6.6432232e-01 -7.0558351e-01  9.9999997e-05  8.1760991e-01\n",
      "  5.8377165e-01 -6.1004549e-01  5.9341800e-01  1.9640167e-01\n",
      "  2.0612091e-01 -7.1014535e-01 -1.0000000e+00 -7.9985160e-01\n",
      "  4.6617243e-01  2.5743604e-01  1.0000000e+00 -8.1868756e-01\n",
      " -5.4797947e-01  8.9250840e-02  5.1261735e-01 -4.7820482e-01\n",
      " -4.1524184e-01  6.4787400e-01]\n",
      "\n",
      "Trained weights used:\n",
      " [-0.38378805 -0.05842995  0.03735707  2.50929737  0.6298905  -0.21246047\n",
      " -1.41889369  0.72921336 -1.31309652 -0.01445023  0.48484722 -0.62210494\n",
      " -1.45810652  0.9037419  -0.92642421 -1.8163141  -1.54430306  0.10923119\n",
      " -0.59749734  0.48674962  0.41037244  1.26958501  1.04627538  1.9064635\n",
      "  0.85791856  0.18673219 -1.62772596  4.09139442 -0.2565192   0.30959392\n",
      "  3.4238236  -0.09650841  0.95164299  0.85086066 -0.51269233  1.78758013\n",
      "  2.03156495  0.52002418 -1.67319119  0.91195244 -2.62758565  0.52151752\n",
      "  0.93038726 -1.07758474 -2.05916071 -1.85691643  2.67471123 -0.07599249\n",
      "  1.15526783 -0.06521787 -3.68045664  1.94791305 -0.38585502]\n"
     ]
    }
   ],
   "source": [
    "#Print Result\n",
    "print('Mean Squared Error: {:0.4f}'.format(mse))\n",
    "accu = (1-mse)*100\n",
    "print('\\nAccuracy:{:0.2f}%'.format(accu))\n",
    "print(\"\\nPredicted Array\\n\",predict_array)\n",
    "print(\"\\nDesired output\\n\",Y)\n",
    "#print(\"\\nInput from test file\\n\",X)\n",
    "print(\"\\nTrained weights used:\\n\",weights)"
   ]
  },
  {
   "cell_type": "code",
   "execution_count": null,
   "metadata": {},
   "outputs": [],
   "source": []
  }
 ],
 "metadata": {
  "kernelspec": {
   "display_name": "Python 3",
   "language": "python",
   "name": "python3"
  },
  "language_info": {
   "codemirror_mode": {
    "name": "ipython",
    "version": 3
   },
   "file_extension": ".py",
   "mimetype": "text/x-python",
   "name": "python",
   "nbconvert_exporter": "python",
   "pygments_lexer": "ipython3",
   "version": "3.7.4"
  }
 },
 "nbformat": 4,
 "nbformat_minor": 2
}
