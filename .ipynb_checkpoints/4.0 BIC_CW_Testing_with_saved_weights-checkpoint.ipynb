{
 "cells": [
  {
   "cell_type": "markdown",
   "metadata": {},
   "source": [
    "## Function Approximation\n",
    "### Using the PSO algorithm to optimise the ANN's parameters"
   ]
  },
  {
   "cell_type": "markdown",
   "metadata": {},
   "source": [
    "**1. Import Resources**"
   ]
  },
  {
   "cell_type": "code",
   "execution_count": 1,
   "metadata": {
    "scrolled": true
   },
   "outputs": [],
   "source": [
    "# import resources\n",
    "import numpy as np\n",
    "import matplotlib.pyplot as plt\n",
    "%matplotlib inline"
   ]
  },
  {
   "cell_type": "markdown",
   "metadata": {},
   "source": [
    "**2. Create Neural Network Class**"
   ]
  },
  {
   "cell_type": "code",
   "execution_count": 2,
   "metadata": {
    "scrolled": true
   },
   "outputs": [],
   "source": [
    "class NeuralNetwork:    \n",
    "    def __init__(self, func, hiddenLayerNeurons, activation):\n",
    "        self.func = func # name of the function to be optimized\n",
    "        self.layerArch = list.copy(hiddenLayerNeurons) #list of neurons in the hidden layers\n",
    "        self.activation = activation # name of the activation fuction\n",
    "         \n",
    "        # adding input and output layers to the hidden neurons list\n",
    "        self.inputOutputNeurons()\n",
    "        \n",
    "        # calculate number of weights\n",
    "        self.nWeights = self.numWeights()\n",
    "        \n",
    "        # set activation function\n",
    "        self.actFunc = self.functionSelection()\n",
    "        \n",
    "        # set indices at which weight matrix to be split for matrix multiplication\n",
    "        self.splitIndices = self.splitIndices()\n",
    "        \n",
    "    def getANN_Hyperparameters(self):\n",
    "        return [self.func, self.activation, self.layerArch]\n",
    "        \n",
    "    def getnWeights(self): # getter methonds for number of weights\n",
    "        return self.nWeights\n",
    "        \n",
    "    def inputOutputNeurons(self): # a private method to neuralNetwork class\n",
    "        # Set number neurons in the Input layer\n",
    "        if self.func in ('XOR','Complex'):\n",
    "            self.layerArch.insert(0,2) # XOR & Complex functions are based on two input variables\n",
    "        else:\n",
    "            self.layerArch.insert(0,1) # Linear, Cubic, Sine, Tanh functions are based on single input variable\n",
    "       \n",
    "        # Set number of neurons in the Output layer\n",
    "        self.layerArch.append(1) # only single output value is expected from the fuction\n",
    "        \n",
    "    def numWeights(self):# a private method to neuralNetwork class\n",
    "        n_weights = sum(self.layerArch[i]*self.layerArch[i+1] for i in range(len(self.layerArch)-1))\n",
    "        return n_weights\n",
    "    \n",
    "    def functionSelection(self):# a private method to neuralNetwork class\n",
    "        return activation_funcs[self.activation]\n",
    "    \n",
    "    def splitIndices(self):\n",
    "        indices = []\n",
    "        for i in range(len(self.layerArch)-1):\n",
    "            indices.append(self.layerArch[i]*self.layerArch[i+1])\n",
    "\n",
    "        splitIndices = []\n",
    "        splitIndices.append(indices[0])\n",
    "        for j in range(1,len(indices)-1):\n",
    "            splitIndices.append(splitIndices[j-1] + indices[j])\n",
    "\n",
    "        return splitIndices\n",
    "    \n",
    "    def forward(self, weights,X,Y):\n",
    "        \n",
    "        inputArray = np.copy(X)\n",
    "       \n",
    "        wArray = np.split(weights,self.splitIndices)\n",
    "        #print(\"splitIndices\",self.splitIndices)\n",
    "        #print(\"wArray\",wArray)\n",
    "        #print(\"layerArch\", self.layerArch)\n",
    "        \n",
    "        wMatrix=[]\n",
    "        for i in range(0,len(self.layerArch)-1):\n",
    "            wMatrix.append(wArray[i].reshape(self.layerArch[i+1],self.layerArch[i]))\n",
    "        #print(\"wArray after reshape\", wMatrix)\n",
    "    \n",
    "        desiredArray = np.copy(Y)\n",
    "        predictArray = []\n",
    "        \n",
    "        for i in range(len(inputArray)):\n",
    "            ih = inputArray[i].reshape(-1,1)\n",
    "            for j in range(0,len(self.layerArch)-1):\n",
    "                #print(\"wMatrix = \", wMatrix[j], \"ih = \", ih)\n",
    "                ih = np.matmul(wMatrix[j],ih)\n",
    "            \n",
    "                if j != (len(self.layerArch)-1):\n",
    "                    ih = self.actFunc(ih)\n",
    "            predictArray.append(ih)\n",
    "            \n",
    "        #print(len(desiredArray), len(predictArray))\n",
    "\n",
    "        squeezePredict = np.squeeze(predictArray)\n",
    "\n",
    "        mse = ((desiredArray - squeezePredict)**2).mean(axis = None)\n",
    "       \n",
    "        return mse.tolist(), squeezePredict"
   ]
  },
  {
   "cell_type": "markdown",
   "metadata": {},
   "source": [
    "**3. Helper function for passing activation function**"
   ]
  },
  {
   "cell_type": "code",
   "execution_count": 3,
   "metadata": {
    "scrolled": true
   },
   "outputs": [],
   "source": [
    "activation_funcs = {\n",
    "    'Null': lambda x: x*0,\n",
    "    'Sigmoid': lambda x: 1/(1 + np.exp(-x)),\n",
    "    'Hyperbolic Tangent': lambda x: np.tanh(x),\n",
    "    'Cosine': lambda x: np.cos(x),\n",
    "    'Gaussian': lambda x: np.exp(-x**2/2),\n",
    "        }"
   ]
  },
  {
   "cell_type": "markdown",
   "metadata": {},
   "source": [
    "**4. Function to read data from the .txt file**"
   ]
  },
  {
   "cell_type": "code",
   "execution_count": 4,
   "metadata": {},
   "outputs": [],
   "source": [
    "# load the training data from .txt file into a list\n",
    "def read_data(func):\n",
    "    txt_address = {'Linear':'Data/1in_linear_test.txt',\n",
    "                   'Cubic':'Data/1in_cubic_test.txt',\n",
    "                   'Sine':'Data/1in_sine_test.txt',\n",
    "                   'TanH':'Data/1in_tanh_test.txt',\n",
    "                   'XOR':'Data/2in_xor_test.txt',\n",
    "                   'Complex':'Data/2in_complex_test.txt'}\n",
    "\n",
    "    train_data_file = open(txt_address[func],'r')\n",
    "    line_data = train_data_file.readlines()\n",
    "    train_data_file.close()\n",
    "\n",
    "    train_list = []\n",
    "    for line in line_data:\n",
    "        line = line.strip().split()\n",
    "        for d in line:\n",
    "            train_list.append(float(d))\n",
    "        \n",
    "    #check     \n",
    "    #print(train_list)\n",
    "\n",
    "    if func in ('XOR','Complex'):\n",
    "        train_array = np.asarray(train_list, dtype=np.float32).reshape(-1,3)\n",
    "        X,Y = train_array[:,0:2], train_array[:,-1]\n",
    "\n",
    "    elif func in ('Linear', 'Cubic', 'Sine', 'TanH'):\n",
    "        train_array = np.asarray(train_list, dtype=np.float32).reshape(-1,2)\n",
    "        X,Y = train_array[:,0], train_array[:,-1]\n",
    "    else:\n",
    "        \"error reading data\"    \n",
    "    #print(train_array)\n",
    "    #print(X)\n",
    "    #print(Y)\n",
    "    \n",
    "    return X,Y"
   ]
  },
  {
   "cell_type": "markdown",
   "metadata": {},
   "source": [
    "**5. Select function to be Tested**"
   ]
  },
  {
   "cell_type": "code",
   "execution_count": 5,
   "metadata": {},
   "outputs": [
    {
     "name": "stdout",
     "output_type": "stream",
     "text": [
      "Choose the function name \n",
      "(Options: Linear, Cubic, Sine, TanH, XOR, Complex) = Sine\n"
     ]
    }
   ],
   "source": [
    "# Set function from User input\n",
    "func = input('Choose the function name \\n(Options: Linear, Cubic, Sine, TanH, XOR, Complex) = ')"
   ]
  },
  {
   "cell_type": "markdown",
   "metadata": {},
   "source": [
    "**6. Run Test**"
   ]
  },
  {
   "cell_type": "code",
   "execution_count": 6,
   "metadata": {},
   "outputs": [],
   "source": [
    "if func == 'Linear':\n",
    "    hidden_layer_neurons = [10]\n",
    "    activation = 'Hyperbolic Tangent' \n",
    "    weights = np.genfromtxt('linear_weights.csv',delimiter = ',')\n",
    "elif func == 'Cubic':\n",
    "    hidden_layer_neurons = [7,7,7]\n",
    "    activation = 'Hyperbolic Tangent' \n",
    "    weights = np.genfromtxt('cubic_weights.csv',delimiter = ',')\n",
    "elif func == 'Sine':\n",
    "    hidden_layer_neurons = [7,7]\n",
    "    activation = 'Hyperbolic Tangent' \n",
    "    weights = np.genfromtxt('sine_weights.csv',delimiter = ',')\n",
    "elif func == 'TanH':\n",
    "    hidden_layer_neurons = [1]\n",
    "    activation = 'Hyperbolic Tangent' \n",
    "    weights = np.genfromtxt('tanh_weights.csv',delimiter = ',') \n",
    "elif func == 'XOR':\n",
    "    hidden_layer_neurons = [4,4]\n",
    "    activation = 'Hyperbolic Tangent' \n",
    "    weights = np.genfromtxt('xor_weights.csv',delimiter = ',') \n",
    "elif func == 'Complex':\n",
    "    hidden_layer_neurons = [10,10,10]\n",
    "    activation = 'Cosine' \n",
    "    weights = np.genfromtxt('complex_weights.csv',delimiter = ',') \n",
    "else: 'function not found'\n",
    "    \n",
    "X,Y = read_data(func) # read data\n",
    "ann_object = NeuralNetwork(func, hidden_layer_neurons, activation) #create instance of neural network\n",
    "mse, predict_array = ann_object.forward(weights,X,Y) #run ann\n"
   ]
  },
  {
   "cell_type": "markdown",
   "metadata": {},
   "source": [
    "**7.Print Result**"
   ]
  },
  {
   "cell_type": "code",
   "execution_count": 7,
   "metadata": {},
   "outputs": [
    {
     "name": "stdout",
     "output_type": "stream",
     "text": [
      "Mean Squared Error: 0.3699\n",
      "\n",
      "Accuracy:63.01%\n",
      "\n",
      "Predicted Array\n",
      " [ 0.00522194 -0.003072    0.00712264 -0.00907221  0.00697042 -0.00110122\n",
      "  0.00611485  0.0034282  -0.00964391  0.00569981 -0.00964391 -0.00017365\n",
      " -0.00463742 -0.00158009  0.00686914 -0.00206847  0.00717346 -0.00063227\n",
      "  0.00705494  0.00720737  0.00705494  0.00522194 -0.01021766  0.00546863\n",
      " -0.00410821  0.00722433  0.00611485 -0.00517339  0.0064657   0.00720737]\n",
      "\n",
      "Desired output\n",
      " [ 0.826  -0.7765  0.2258  0.1851  0.3445 -0.9074  0.6623  0.9745  0.1238\n",
      "  0.7499 -0.1446  0.946  -0.6466  0.8696 -0.3823 -0.8485 -0.1438 -0.9317\n",
      "  0.2857  0.1035 -0.2651 -0.8136  0.0621 -0.776  -0.6926 -0.0203 -0.646\n",
      " -0.5981  0.5645 -0.0822]\n"
     ]
    },
    {
     "data": {
      "image/png": "[encoded data removed]",
      "text/plain": [
       "<Figure size 576x432 with 1 Axes>"
      ]
     },
     "metadata": {
      "needs_background": "light"
     },
     "output_type": "display_data"
    }
   ],
   "source": [
    "#Print Result\n",
    "print('Mean Squared Error: {:0.4f}'.format(mse))\n",
    "accu = (1-mse)*100\n",
    "print('\\nAccuracy:{:0.2f}%'.format(accu))\n",
    "print(\"\\nPredicted Array\\n\",predict_array)\n",
    "print(\"\\nDesired output\\n\",Y)\n",
    "#print(\"\\nInput from test file\\n\",X)\n",
    "#print(\"\\nTrained weights used:\\n\",weights)\n",
    "\n",
    "\n",
    "# Graph between Desired vs Predicted (for single input equation only)\n",
    "if func in ['Linear', 'Cubic', 'Sine', 'TanH']:\n",
    "    plt.figure(figsize = (8,6))\n",
    "    plt.scatter(X,Y, marker = 'o',label='Desired')\n",
    "    plt.scatter(X,predict_array, marker = 'o',label='Predicted')\n",
    "    plt.ylabel('Output to Function')\n",
    "    plt.xlabel('Input to Function')\n",
    "\n",
    "    title_string = 'Run Result for {} Function'.format(func)\n",
    "\n",
    "    #plt.legend(title='Parameter where:')\n",
    "    plt.legend(loc='center right', shadow=False, fontsize='medium')\n",
    "    plt.title(title_string,fontsize='x-large')"
   ]
  },
  {
   "cell_type": "code",
   "execution_count": null,
   "metadata": {},
   "outputs": [],
   "source": []
  },
  {
   "cell_type": "code",
   "execution_count": null,
   "metadata": {},
   "outputs": [],
   "source": [
    "\n"
   ]
  },
  {
   "cell_type": "code",
   "execution_count": null,
   "metadata": {},
   "outputs": [],
   "source": []
  }
 ],
 "metadata": {
  "kernelspec": {
   "display_name": "Python 3",
   "language": "python",
   "name": "python3"
  },
  "language_info": {
   "codemirror_mode": {
    "name": "ipython",
    "version": 3
   },
   "file_extension": ".py",
   "mimetype": "text/x-python",
   "name": "python",
   "nbconvert_exporter": "python",
   "pygments_lexer": "ipython3",
   "version": "3.7.5"
  }
 },
 "nbformat": 4,
 "nbformat_minor": 2
}
