{
 "cells": [
  {
   "cell_type": "markdown",
   "metadata": {},
   "source": [
    "## Function Approximation\n",
    "### Using the PSO algorithm to optimise the ANN's parameters"
   ]
  },
  {
   "cell_type": "markdown",
   "metadata": {},
   "source": [
    "**1. Import Resources**"
   ]
  },
  {
   "cell_type": "code",
   "execution_count": 1,
   "metadata": {
    "scrolled": true
   },
   "outputs": [],
   "source": [
    "# import resources\n",
    "import numpy as np\n",
    "import matplotlib.pyplot as plt\n",
    "%matplotlib inline"
   ]
  },
  {
   "cell_type": "markdown",
   "metadata": {},
   "source": [
    "**2. Create Neural Network Class**"
   ]
  },
  {
   "cell_type": "code",
   "execution_count": 2,
   "metadata": {
    "scrolled": true
   },
   "outputs": [],
   "source": [
    "class NeuralNetwork:    \n",
    "    def __init__(self, func, hiddenLayerNeurons, activation):\n",
    "        self.func = func # name of the function to be optimized\n",
    "        self.layerArch = list.copy(hiddenLayerNeurons) #list of neurons in the hidden layers\n",
    "        self.activation = activation # name of the activation fuction\n",
    "         \n",
    "        # adding input and output layers to the hidden neurons list\n",
    "        self.inputOutputNeurons()\n",
    "        \n",
    "        # calculate number of weights\n",
    "        self.nWeights = self.numWeights()\n",
    "        \n",
    "        # set activation function\n",
    "        self.actFunc = self.functionSelection()\n",
    "        \n",
    "        # set indices at which weight matrix to be split for matrix multiplication\n",
    "        self.splitIndices = self.splitIndices()\n",
    "        \n",
    "    def getANN_Hyperparameters(self):\n",
    "        return [self.func, self.activation, self.layerArch]\n",
    "        \n",
    "    def getnWeights(self): # getter methonds for number of weights\n",
    "        return self.nWeights\n",
    "        \n",
    "    def inputOutputNeurons(self): # a private method to neuralNetwork class\n",
    "        # Set number neurons in the Input layer\n",
    "        if self.func in ('XOR','Complex'):\n",
    "            self.layerArch.insert(0,2) # XOR & Complex functions are based on two input variables\n",
    "        else:\n",
    "            self.layerArch.insert(0,1) # Linear, Cubic, Sine, Tanh functions are based on single input variable\n",
    "       \n",
    "        # Set number of neurons in the Output layer\n",
    "        self.layerArch.append(1) # only single output value is expected from the fuction\n",
    "        \n",
    "    def numWeights(self):# a private method to neuralNetwork class\n",
    "        n_weights = sum(self.layerArch[i]*self.layerArch[i+1] for i in range(len(self.layerArch)-1))\n",
    "        return n_weights\n",
    "    \n",
    "    def functionSelection(self):# a private method to neuralNetwork class\n",
    "        return activation_funcs[self.activation]\n",
    "    \n",
    "    def splitIndices(self):\n",
    "        indices = []\n",
    "        for i in range(len(self.layerArch)-1):\n",
    "            indices.append(self.layerArch[i]*self.layerArch[i+1])\n",
    "\n",
    "        splitIndices = []\n",
    "        splitIndices.append(indices[0])\n",
    "        for j in range(1,len(indices)-1):\n",
    "            splitIndices.append(splitIndices[j-1] + indices[j])\n",
    "\n",
    "        return splitIndices\n",
    "    \n",
    "    def forward(self, weights,X,Y):\n",
    "        \n",
    "        inputArray = np.copy(X)\n",
    "       \n",
    "        wArray = np.split(weights,self.splitIndices)\n",
    "        #print(\"splitIndices\",self.splitIndices)\n",
    "        #print(\"wArray\",wArray)\n",
    "        #print(\"layerArch\", self.layerArch)\n",
    "        \n",
    "        wMatrix=[]\n",
    "        for i in range(0,len(self.layerArch)-1):\n",
    "            wMatrix.append(wArray[i].reshape(self.layerArch[i+1],self.layerArch[i]))\n",
    "        #print(\"wArray after reshape\", wMatrix)\n",
    "    \n",
    "        desiredArray = np.copy(Y)\n",
    "        predictArray = []\n",
    "        \n",
    "        for i in range(len(inputArray)):\n",
    "            ih = inputArray[i].reshape(-1,1)\n",
    "            for j in range(0,len(self.layerArch)-1):\n",
    "                #print(\"wMatrix = \", wMatrix[j], \"ih = \", ih)\n",
    "                ih = np.matmul(wMatrix[j],ih)\n",
    "            \n",
    "                if j != (len(self.layerArch)-1):\n",
    "                    ih = self.actFunc(ih)\n",
    "            predictArray.append(ih)\n",
    "            \n",
    "        #print(len(desiredArray), len(predictArray))\n",
    "\n",
    "        squeezePredict = np.squeeze(predictArray)\n",
    "\n",
    "        mse = ((desiredArray - squeezePredict)**2).mean(axis = None)\n",
    "       \n",
    "        return mse.tolist(), squeezePredict"
   ]
  },
  {
   "cell_type": "markdown",
   "metadata": {},
   "source": [
    "**3. Helper function for passing activation function**"
   ]
  },
  {
   "cell_type": "code",
   "execution_count": 3,
   "metadata": {
    "scrolled": true
   },
   "outputs": [],
   "source": [
    "activation_funcs = {\n",
    "    'Null': lambda x: x*0,\n",
    "    'Sigmoid': lambda x: 1/(1 + np.exp(-x)),\n",
    "    'Hyperbolic Tangent': lambda x: np.tanh(x),\n",
    "    'Cosine': lambda x: np.cos(x),\n",
    "    'Gaussian': lambda x: np.exp(-x**2/2),\n",
    "        }"
   ]
  },
  {
   "cell_type": "markdown",
   "metadata": {},
   "source": [
    "**4. Function to read data from the .txt file**"
   ]
  },
  {
   "cell_type": "code",
   "execution_count": 4,
   "metadata": {},
   "outputs": [],
   "source": [
    "# load the training data from .txt file into a list\n",
    "def read_data(func):\n",
    "    txt_address = {'Linear':'Data/1in_linear_test.txt',\n",
    "                   'Cubic':'Data/1in_cubic_test.txt',\n",
    "                   'Sine':'Data/1in_sine_test.txt',\n",
    "                   'TanH':'Data/1in_tanh_test.txt',\n",
    "                   'XOR':'Data/2in_xor_test.txt',\n",
    "                   'Complex':'Data/2in_complex_test.txt'}\n",
    "\n",
    "    train_data_file = open(txt_address[func],'r')\n",
    "    line_data = train_data_file.readlines()\n",
    "    train_data_file.close()\n",
    "\n",
    "    train_list = []\n",
    "    for line in line_data:\n",
    "        line = line.strip().split()\n",
    "        for d in line:\n",
    "            train_list.append(float(d))\n",
    "        \n",
    "    #check     \n",
    "    #print(train_list)\n",
    "\n",
    "    if func in ('XOR','Complex'):\n",
    "        train_array = np.asarray(train_list, dtype=np.float32).reshape(-1,3)\n",
    "        X,Y = train_array[:,0:2], train_array[:,-1]\n",
    "\n",
    "    elif func in ('Linear', 'Cubic', 'Sine', 'TanH'):\n",
    "        train_array = np.asarray(train_list, dtype=np.float32).reshape(-1,2)\n",
    "        X,Y = train_array[:,0], train_array[:,-1]\n",
    "    else:\n",
    "        \"error reading data\"    \n",
    "    #print(train_array)\n",
    "    #print(X)\n",
    "    #print(Y)\n",
    "    \n",
    "    return X,Y"
   ]
  },
  {
   "cell_type": "markdown",
   "metadata": {},
   "source": [
    "**5. Select function to be Tested**"
   ]
  },
  {
   "cell_type": "code",
   "execution_count": 6,
   "metadata": {},
   "outputs": [
    {
     "name": "stdout",
     "output_type": "stream",
     "text": [
      "Choose the function name \n",
      "(Options: Linear, Cubic, Sine, TanH, XOR, Complex) = Linear\n"
     ]
    }
   ],
   "source": [
    "# Set function from User input\n",
    "func = input('Choose the function name \\n(Options: Linear, Cubic, Sine, TanH, XOR, Complex) = ')"
   ]
  },
  {
   "cell_type": "markdown",
   "metadata": {},
   "source": [
    "**6. Run Test**"
   ]
  },
  {
   "cell_type": "code",
   "execution_count": 7,
   "metadata": {},
   "outputs": [],
   "source": [
    "if func == 'Linear':\n",
    "    hidden_layer_neurons = [7,7]\n",
    "    activation = 'Hyperbolic Tangent' \n",
    "    weights = np.genfromtxt('linear_weights.csv',delimiter = ',')\n",
    "elif func == 'Cubic':\n",
    "    hidden_layer_neurons = [7,7]\n",
    "    activation = 'Sigmoid' \n",
    "    weights = np.genfromtxt('cubic_weights.csv',delimiter = ',')\n",
    "elif func == 'Sine':\n",
    "    hidden_layer_neurons = [7,7]\n",
    "    activation = 'Sigmoid' \n",
    "    weights = np.genfromtxt('sine_weights.csv',delimiter = ',')\n",
    "elif func == 'TanH':\n",
    "    hidden_layer_neurons = [7,7]\n",
    "    activation = 'Sigmoid' \n",
    "    weights = np.genfromtxt('tanh_weights.csv',delimiter = ',') \n",
    "elif func == 'XOR':\n",
    "    hidden_layer_neurons = [7,7]\n",
    "    activation = 'Sigmoid' \n",
    "    weights = np.genfromtxt('xor_weights.csv',delimiter = ',') \n",
    "elif func == 'Complex':\n",
    "    hidden_layer_neurons = [7,7]\n",
    "    activation = 'Sigmoid' \n",
    "    weights = np.genfromtxt('complex_weights.csv',delimiter = ',') \n",
    "else: 'function not found'\n",
    "    \n",
    "X,Y = read_data(func) # read data\n",
    "ann_object = NeuralNetwork(func, hidden_layer_neurons, activation) #create instance of neural network\n",
    "mse, predict_array = ann_object.forward(weights,X,Y) #run ann\n"
   ]
  },
  {
   "cell_type": "markdown",
   "metadata": {},
   "source": [
    "**7.Print Result**"
   ]
  },
  {
   "cell_type": "code",
   "execution_count": 45,
   "metadata": {},
   "outputs": [
    {
     "name": "stdout",
     "output_type": "stream",
     "text": [
      "Mean Squared Error: 0.0028\n",
      "\n",
      "Accuracy:99.72%\n",
      "\n",
      "Predicted Array\n",
      " [-0.87199792  0.06734362 -0.45902434 -0.12311425  0.71132604 -0.86903516\n",
      " -0.75959072  0.33311973  0.68017886 -0.7389801   0.12239325  0.77579436\n",
      " -0.61464068 -0.6603775  -0.77615858 -0.5930881   0.85784249  0.65490843\n",
      " -0.68396306  0.66319005 -0.4694518  -0.10998537  0.82692953  0.66575254\n",
      " -0.31627915 -0.67799394 -0.22957958 -0.86841534 -0.5207708   0.86561306]\n",
      "\n",
      "Desired output\n",
      " [-1.          0.08680988 -0.44326124 -0.15096483  0.68955225 -0.9905623\n",
      " -0.75686175  0.34149817  0.6517055  -0.7265868   0.15018666  0.7826439\n",
      " -0.5815958  -0.62934357 -0.7832462  -0.560605    0.95724756  0.6233663\n",
      " -0.656118    0.6324495  -0.4518525  -0.13659163  0.88005966  0.6352988\n",
      " -0.3277761  -0.6491791  -0.2543359  -0.98862296 -0.4951473   0.98      ]\n"
     ]
    }
   ],
   "source": [
    "#Print Result\n",
    "print('Mean Squared Error: {:0.4f}'.format(mse))\n",
    "accu = (1-mse)*100\n",
    "print('\\nAccuracy:{:0.2f}%'.format(accu))\n",
    "print(\"\\nPredicted Array\\n\",predict_array)\n",
    "print(\"\\nDesired output\\n\",Y)\n",
    "#print(\"\\nInput from test file\\n\",X)\n",
    "#print(\"\\nTrained weights used:\\n\",weights)"
   ]
  },
  {
   "cell_type": "code",
   "execution_count": null,
   "metadata": {},
   "outputs": [],
   "source": []
  }
 ],
 "metadata": {
  "kernelspec": {
   "display_name": "Python 3",
   "language": "python",
   "name": "python3"
  },
  "language_info": {
   "codemirror_mode": {
    "name": "ipython",
    "version": 3
   },
   "file_extension": ".py",
   "mimetype": "text/x-python",
   "name": "python",
   "nbconvert_exporter": "python",
   "pygments_lexer": "ipython3",
   "version": "3.7.5"
  }
 },
 "nbformat": 4,
 "nbformat_minor": 2
}
